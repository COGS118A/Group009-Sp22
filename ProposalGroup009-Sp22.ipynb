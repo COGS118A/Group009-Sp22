{
  "cells": [
    {
      "cell_type": "markdown",
      "metadata": {
        "id": "ISUWOuoLa6Vk"
      },
      "source": [
        "# COGS 118A- Project Proposal"
      ]
    },
    {
      "cell_type": "markdown",
      "metadata": {
        "id": "dMzAAyNwa6Vo"
      },
      "source": [
        "# Team Members\n",
        "\n",
        "- Tai Le\n",
        "- Stefanie Dao\n",
        "- Yepeng Li\n",
        "- Cheng Chang\n",
        "- Matthew Chong"
      ]
    },
    {
      "cell_type": "markdown",
      "metadata": {
        "id": "rUJd7dLba6Vo"
      },
      "source": [
        "# Abstract\n",
        "Heart related issues are critical to our lives and it is crucial to detect them early on. Our goal in this project is to successfully classify if a person does or does not have a heart disease. The data represents a person's health related information such as cholesterol level and heart rate, and also other health related activities such as smoking. We will be cleaning the data by converting any categorical values into numerical representation using different encoding methods and removing any unnecessary features. After cleaning the data, we will perform an exploratory data analysis to learn more about the pattern of the dataset and do feature extraction/selection accordingly. Different classification algorithms will then be used to find out which one provide the best results that can solve our proposed problem. Within each algorithm, we will first find the best setting that maximizes their own performance, and then each of their performance will be benchmarked against that of another algorithm to find the best solution."
      ]
    },
    {
      "cell_type": "markdown",
      "metadata": {
        "id": "GXuvDM9Ca6Vp"
      },
      "source": [
        "# Background\n",
        "\n",
        "Heart disease also known as cardiovascular disease, is one of the main reason for the deaths of many indivduals around the world. Most noteably about 82% of deaths in low to middle income countries split relatively even between male and females<a name=\"hajar\"></a>[<sup>[1]</sup>](#hist). Studies looking into the causes of heart disease has been excercised ever since the death of US President Franklin D. Roosevelt who was a victim to this, the lack of preparation to counter this disease proved our lack of knowledge towards it. Research into the causes of heart disease has been done within the town of Framingham where they found that vicitims commonly had a combination of high blood pressure, smoking, obesity and high blood cholesterol. It's emphasized that there is no sole reason for the cause of heart disease in addition to the above universally applying to other racial and ethnic groups. The Framingham organization in addition to Journal of the American Heart Association has also did a study on cardiovascular disease\n",
        "where they found that hypertension is one of the primary risk factors which increase probability of stroke, coronary heart disease and heart failure<a name=\"vaugham\"></a>[<sup>[2]</sup>](#hypertensions). The presence of hypertension was in 47.3% of adults in the US between 2015-2018 where ~80% of those individuals had uncontrolled hypertension and this in great risk of heart disease. \n",
        "\n",
        "Another study heart disease identification using machine learning algorithms is another example of previous research into this topic where they used ensemble of deep neural networks as a model to classify whether a patient is prone to have heart disease<a name=\"Tuli\"></a>[<sup>[3]</sup>](#diseaseAlg). In this study they took the data from heart patients in the Cleaveland dataset and coresponded known output class in addition to trained model to predict results in real time. Training, validation and testing was split 70:10:20 where they used Nodes to represent their neural networks. This effective algorithm was validated for real-life heart patients were this experience yielded useful data for future investigations on this matter. Knowing this, looking into the causes of this disease is essential for the benefit of hummanity as it can save many lives, with integrating machine learning algorithms to identify heart disease in early stages can potentially prevent the death of others."
      ]
    },
    {
      "cell_type": "markdown",
      "metadata": {
        "id": "mMOs3blea6Vp"
      },
      "source": [
        "# Problem Statement\n",
        "\n",
        "Heart disease is hard to detect early on.\n",
        "Many times people do not know they are in\n",
        "critical condition until they have a techy-carida or even stroke, which then would be too late. Symptoms of heart disease are hard to identify or easily dismissed. Due to the shortage of doctors and limited availability of healthcare systems in certain areas of the world, it becomes a major problem in the medical field.\n",
        "\n",
        "Our work aim to use machine learning methods will predict whether or not a patient would potentially having heart disease base on their basic demographic information and medical history record. The early prognosis of heart diseases can help in making decisions on lifestyle changes in high risk patients and reduce the complications. \n",
        "\n",
        "Our task is categorized as a classification task. This is supervised learning techinique where class attribute is involved in the construction of the classifier and is used to classify or predict the data unknown sample. Generally, for every patient, our model's prediction would be 1 if the patient would potentially have heart disease in 10 years and 0 otherwise. To generate such prediction,  we will be using different classification models in machine learning such as Losgistic Regression, Decision Tree, K-Nearest Neigbor and Neural Networks. We will use several evaluation metrics including Accuracy, $F_1$ score and AUC-ROC curve to measure our model's prediction and performance. "
      ]
    },
    {
      "cell_type": "markdown",
      "metadata": {
        "id": "aUb9Bqc5a6Vq"
      },
      "source": [
        "# Data\n",
        "\n",
        "- Our main dataset is from an ongoing cardiovascular study on residents of the town of Framingham, Massachusetts. The classification goal is to predict whether the patient has 10-year risk of future coronary heart disease (CHD). https://biolincc.nhlbi.nih.gov/studies/framcohort/. \n",
        "  - The dataset provides the patients’ information, which includes over 4,000 records and 15 attributes\n",
        "  - Each observation consists of basic demographic and medical information of each patient\n",
        "  - Some critical variables are \n",
        "    - Sex: male or female (Nominal)\n",
        "    - Age: Age of the patient(Numerical)\n",
        "    - Cigs Per Day: the number of cigarettes that the person smoked on average in one day(Numerical)\n",
        "    - Prevalent Stroke: whether or not the patient had previously had a stroke (Nominal)\n",
        "    - Sys BP: systolic blood pressure (Numerical)\n",
        "    - Dia BP: diastolic blood pressure (Numerical)\n",
        "    - Heart Rate (Numerical)\n",
        "    - 10 year risk of coronary heart disease CHD (binary: “1”, means “Yes”, “0” means “No”)\n",
        "  - From what we observed, we might need to encode nominal and binary data with one-hot encoding. Before training, we also need to normialize our data and find a way handle imbalanced data if later we discover that the data is highly imbalanced.   \n",
        "\n",
        "- Additionally, we are also looking at another dataset called Medical Information Mart for Intensive Care III (MIMIC-III) dataset which is a large, de-identified and publicly-available collection of medical records https://paperswithcode.com/dataset/mimic-iii\n",
        "\n"
      ]
    },
    {
      "cell_type": "markdown",
      "metadata": {
        "id": "x5bfZhYTa6Vq"
      },
      "source": [
        "# Proposed Solution\n",
        "In order to achieve the best possible solution for our problem, we will first perform an algorithm selection process where we will be applying different classification algorithms and benchmarking their performance against one another. The performance of these algorithms will indicate whether one of them is appropriate to use as our solution. Below are the models that we will be using:\n",
        "\n",
        "- Benchmark model: Logistic Regression \n",
        "  - This algorithm classifies the two classes using a logistic function and a linear decision boundary. The logistic function (or sigmoid): $$\\sigma(k) = \\frac{1}{1+e^{-k}}$$ turns a predicted value into a probability value that indicates how likely it is for that prediction to belong to a certain class. The input value $k$ is the predicted value using the linear function $\\textbf{w}^T\\textbf{x+b}$ that defines the decision boundary. The optimal $\\textbf{w}$ for our linear decision boundary can be found by minimizing the appropriate loss function for logistic regression.\n",
        "  \n",
        "- Model 1: Decision Tree\n",
        "  - This algorithm classifies the labels by recursively building a decision tree. The branches are split based on the amount of information gain from each scenario, and our goal is to maximize the information gain from each split. Below is the mathematical expression of the information maximization: $$argmax_B G(S,B) = H(S) - \\sum_{i=1}^t \\frac{|S_i|}{|S|} H(S_i)$$ where $B$ is the configuration that splits the data points, $S$ is the data points setting of current split, each $S_i$ belongs to the data points setting of a branch $i$, and $H(S)$ determines the uncertainty/information of $S$. We will be using sklearn for this algorithm.\n",
        "\n",
        "- Model 2: k-Nearest-Neighborhood\n",
        "  - This algorithm classifies the data points by first calculating the distance between the input data point and the trained data points. Then, it will select the nearest $k$ (odd) neighbors for majority voting. The new data point is then classified as the label that won the voting.\n",
        "  \n",
        "- Model 3: Neural Network\n",
        "  - Neural Networks are modeled as collections of neurons that are connected in an acyclic graph. In other words, the outputs of some neurons can become inputs to other neurons. Neural Network models are often organized into distinct layers of neurons. In our work, we will be using a simple feed-forward multi-layer network.\n",
        "  \n",
        "\n",
        "For all of these algorithms, we will run them separately and benchmark each of their performance against our baseline to find out which is the most appropriate algorithm that we should use to solve our problem. For each of these, we will perforem several  metrics (described in below section) to evaluate the performance of our models. The algorithm with the best performance will be our solution."
      ]
    },
    {
      "cell_type": "markdown",
      "metadata": {
        "id": "fSrDvAr5a6Vr"
      },
      "source": [
        "# Evaluation Metrics\n",
        "\n",
        "To quantify the performance of our models, we will is 3 evaluation metrics including Accuracy, AUC-ROC and F1 score.\n",
        "\n",
        "\n",
        "\n",
        "*   As our main task is to do classification, we want to we want the predicted probability $p_\\theta(y_i = 1|x_i)$ to be as close as possible to the label $y_i$. In other words, we want to maximize the model's accuracy, which measures how many observations, both positive and negative, were correctly classified. \n",
        "$$ accuracy(y, f_\\theta(X)) = \\frac{1}{|y|} \\sum^{|y|}_{i= 1} \\omega\n",
        "(f_0(x_i) = y_i)$$\n",
        "where $\\omega$ is an indicator function, and $f_\\theta(x_i)$ is the binarized output of the mode \\\\\n",
        "\n",
        "* With highly imbalanced dataset however, relying on the model's accuracy alone would not yield a good prediction. Therefore, we can use an additional measure called $F_1$ score to balance precision (i.e the rate that items predicted to have a positive label by the classifier are in fact labeled positively) and recall (i.e  the rate that all positively-labeled items our classifier predicted as having a positive label). Formally, we'll have:\n",
        "$$F_\\beta = (1-\\beta^2) \\frac{precision \\times recall}{\\beta^2 precision + recall}$$\n",
        "Here we are choosing $\\beta = 1$ because we care equally about precision and recall. \n",
        "\n",
        "* Additionally, not only do we care about the prediction label but also how much the model is capable of distinguishing between classes. Therefore, we can use the AUC (Area Under The Curve) - ROC (Receiver Operating Characteristics) curve to as performance measurement for the classification problems at various threshold settings. ROC is a probability curve and AUC represents the degree or measure of separability.\n",
        "The higher the AUC, the better the model is at distinguishing between patients with the disease and no disease. The curve is plotted with TPR (True Positive Rate, or Precision) against the FPR (False Positive Rate, which is just calculated as 1 - TPR) where TPR is on the y-axis and FPR is on the x-axis.\n",
        "\n",
        "\n",
        "> ![roc.png](data:image/png;base64,iVBORw0KGgoAAAANSUhEUgAAAWkAAAFKCAIAAABQITmBAAAMZklEQVR42uzdP2sbaR7A8dGSd2ECyyKlOFzdNUaxr9hOPjBpcoRttpPZJlKjLmU6N3KaxerSLOHSHIazui3WRKS6SqSIzHIQ8jrmsGb0fyxnFEkZzXw+bOGVHhtnsvny/OaZrB+EYRgApPSdSwBoB6AdgHYA2gGgHYB2ANoBaAegHQDaAWgHoB2AdqRWGvHbA9v3t+vvvuRP3wNXCgpeirlX/vv38K9/aAdwXyxWCId2QKFLkRiO89If2gFicb8oFkdHR9fX11/+WdoBxYpF4rYibTi0A4qyrVhihXBoBxRiW7H2cGgHFC4Wc1YLh3ZADmeQ7dAOyPO2Yr1zinZAsWKx9nBoB+S8FBsKh3ZAzmOxoXBoB+Q5FpsLh3bAmmORkVJsOhzaAfmMxabDoR2Qw1hsIRzagVjkLRbbCYd2IBa5isXWwqEdiEV+YrHNcGgHepFDWwiHdiAWwqEd6EUhYzFnO+HQDsQC7UAvimprc4p2sMO9EIsshEM70Avh0A4MI8KxRX4O/upuzh+XFj0+v0la3D39snULK+9ct2vJiP5ZHovpf/wHluVwBEFQCsMwaxdl/DO4M/i9zbWj0uwlvVNtD941ylMxOO4kf4n6VXhRm8lG0srZL5erLYZGZDYch4eH9h2bVm0PwsigXR2+0muedSeBiXMwWRaGV/Xo3c7xaTdYWHmblHDuS+7a/mJJOGwudn3H4X7H+pUbL+rNYQD6H2+CWjkIumfxzqR+Nb11qF0M2v3hpqXz8rxVa8yunN6LlBvvwob9BRkLh3ZszP6jYSi6/x7tOVq1ucz845/VZq8XBL0PgyAoj1cG9Se1nIwkepHjcGjHmnVP46kjDsDNx/5MSmbi8Wg/CHqjLUowWpn5dEiGcGjHuvSalVJz9v7HRS1Xv0K9EA7t2LgdPRNZIRl6UeRwOGdZVy4mJyK9ZmXyRMZwLgniuWTO7DyzbOU3SMaSgxJHJMKhHWtWbryOzlOnTmgrf4kPbf/1n7kkTI5Vohsc45WTT85OMpyqCod2bLgeL6LnNjov463H+JVeszJ5kmPmoY/4AGa8MugczzxK2j0tlU673zYZfmu/lcyGQzvWrfakPrd7qF1MngMbP2deSXroo3YxebSsMnkm/a5HUiUj39uN7H+T2rHmeLTiP//jrUdQu0h6OnT46OjccUy58W7yyOn03ZT1HdtIhjllXfx9lqJYcu/TxRGORff+fRZntJKBcKxCO4qVDNUQDu3ARkM4tIONVUMyhEM7sNEQDu1ANdjlcGiH8QTh0A7VQDi0A9UQDu1ANchbOLRDNRAO7VANMi834dAO1YAV+Tv4WQ+Hvxefgzkll78u+45MV8NlyUE48jSnaIdqIBxmFuFAOOw7VMNlEQ7tIEU4VEM4tAPbDeG4LsKvVDtsNxCOVbhXKhwIh32HaiAc9h3CgXBoh3AIh3CYWVgpHKohHNqB7QaxwobDzCIcoB3CwbbmFBdBO4SD1OEo8pwyzf2OjYRDNYTDvgPhQDi0QzgQDu0QDoRDO4QD4dAO4UA4tAPhEA60QzgQDu0A4dAOmw6EQzuEA+HQDoRDONAO4WA54dCOzRIO0I5VNh3kbE5xEbTDtELqcJhTtMO0gnBoRyY3HcIhHGjHKtMKwoF2pA6HTYdwoB2pCYdwoB2mFeFAO0wrCId2mFYQDu0wrSAc2mHTgXCgHTYdwoF22HRwD+HQjm1vOoQDtMO0Urg5xUXQDtMKqcNhTtEOmw6EQztsOhAO7bDpQDjQDpsO4UA7EA60Y/sDi02HcKAdCAfaYdOBcGgHCId22HQgHNoBwoF2pNp0IBxoxyoMLLtCOLQD0I4dH1hsOrI/p7gI2gGpw2FO0Y4sbjoQDrRjFQYW4UA7EA60YysDi02HcKAdCAfagXCgHQYWhEM7QDjQDoQD7TCwCAfagXCgHbCUcGiHgQW0AzY8p7gI2gGpw2FOKUo7TktLPD6/CW7OHy++cdqdfIXEBcNPNbAIBwXdd+w/KgeDD73FNzrHs/1Y1GtWttwPhINttuMiHLmqR6/Ur8YvXdQmC8cvj9Z1Xs6modoexCsG7Wrcj7Ouqy8cuN8RqbVGafgwSF5RbryI+9L/eLPFgQXhIMvtSDv0bI+bHcJBhttxc/5zM7oDUn9SS17SPT3uLF+BcLALHqzji3SOS53pf6+2W7Nh6DUrpebMgsGFdAgHhW/HtPpVeE8Wqu3Bu8Y25hWns8JBxmeWqeOX5HDE5yzRIUuvWXFCKxxoRwrlxuvoHMYJrXCgHSnrER/Rzj8BYmARDrRjqdqTKB62HsKBdqSLx+j5sY1vPdga4SigUhiGmfueSqXog6/53sws8DUODw+ztu/YBuHYzpziIphZIHU4zCnaAcKBdiAcaMdq3OwQDrQD4UA7EA60A+FAO3LFzQ7hQDsQDrQD4UA7EA7IVTv8RAXhQDu+ihulX0k4MLMA2sGG5xQXAe0gdTjMKRS0HZ4KEw60A+FAOxAOtAPhAO0QDuGg8O1wo1Q40A6EA+1AONAOhANy1Q5/fVY40I6v4kapcKAdCAfagXCgHewW4UA7AO1YH0+UJs4pLgLaQepwmFPQDoQD7UA40A6EA+3YYW6UCgfagXCgHQgH2oFwgHYIBxS+HUX+33YIB9qxBkU7ZBEOtINVCAfaAWgHG55TXAS0g9ThMKegHetRnKfRhQPtQDjQDoQD7UA4IK0HLoFwZMrnt788e9Uffrj//M2vT/eSl70/O2pdTr9w5+K5lcu+KPYdwrG76ej93h993P+99zk5Bkdz4bhd/OrZ0dHZ+3tX9l89++XtZ/+ZFbQdOT5kKfqoEqfj5OQk+nP+2/vFbUkcg/3nb65Hzk6idy9bk3pMVgYnZ+OVb57v+1Nv32HHkdt0HLWOohpcXs/tJH6L55mTs+nJ46A1asLl63hTMbXyunUwXrn39NdrM4t2CEde03EQHCTG4/31aM/x08Hsp+5Vf4zi0f/fp+mVwy+GdghHrsVbhf3vH95uJRLi8fnTn9EHPzxc2DnsPfwh+uDPT5+nVkqHdghH/tMRbRX2f6wOw3Bwx9iCdiAcS9IhHlm3e8935OyQRTjmbmX0Xz07ejX71uXrtz8dPN2L55J+PJcczI4tc/PMkpXYd5DDdCQaP+jx8Pv92Rcmnz8+VolucIxXLh7zoh27PKe4CMkDy9QzG9MPboxasff055PR7mTqObDphz7iA5jxyuCyNfMs2PuzhUfIKMjM4gZH/nx++3ruXsfIwdFJcHkZxePp7dhy0Do7uRyG4rJ1NL9VmXno46D15vmfw8fbF8agE5fcvkM4ciF+Dn0xHZMbppMp5aCV9HTo8NHR1ux57N7TXyePnI7cbm1azm3XoBSGYea+p1Ip+iDxe9vde6XCwQ45PDzM1b5DOMDMYlQB7UA40A6EA7RDOEA7hAO0QzhAO7ZkVw5ohQPtQDhAO4QDtCObhAPtANCODc8pLgLakV3ZPGRxgwPtQDhAO4QDtEM4QDuEA7RDOEA7EA7IYTuycEArHGDfIRygHcIB2iEcoB3CAdpRVMIBO9yO3f1ZcKAdxZpTXATQjtThMKeAdggHaIdwgHYIB2iHcIB2ZM+mD2iFA+w7hAO0QzhAO4QDtEM4gEK2QzhAO4QDtCPJeg9ohQPsO1YhHKAdgHZskv8ZB2jHKuEwp4B2CAdoh3CAdmxa2gNa4QDtsOMA7RAO0A7hAO0QDqCQ7RAO0I559x6yCAdohx0HaIdwgHZkk3CAdgDaseE5xe8ZaEfqcJhTQDvuN31AKxygHXYcoB3CAYVUCsMwc99TqeQ3Br6te8vgjBbI6cwCZNCDXdwsAfYdgHYA2gGgHYB2ANoBaAegHQDaAWgHa9I9LSU47Q7fvDl/fOd7dy8oPT6/cWG1g3y7+dhf8u7gQ2/xxc7xbD8W9ZoV/dAOiqHaHoRTLmoz79av4tev6nE/Xs6mYfLpg3Y17sdZ12XVDojUWqM0fBgkryg3XsR96X+089AOSG//UdlF0A4IhrdGf25Gd0DqT2rJS7qnx53lK9AOcqTXrNxxlBLEt0dvVeJyVNut2h2fHpWj2h5cSEcxPHAJ+DL1q/CeLFTbg3cN84p9B4Uwe84yH4fxOUvCe9OfHh2y9JoVJ7TaASmUG6+jcxgntNoBKesRH9HOPwGCdsBStSdRPGw9tAPSxWP0/JitRyGU/EADwL4D0A5AOwDtANAOQDsA7QC0A9AOAO0AtAPYov8HAAD//0/USFVHooMhAAAAAElFTkSuQmCC)\n",
        "\n"
      ]
    },
    {
      "cell_type": "markdown",
      "metadata": {
        "id": "H18BRdQ-a6Vr"
      },
      "source": [
        "# Ethics & Privacy"
      ]
    },
    {
      "cell_type": "markdown",
      "metadata": {
        "id": "77O2Mcu5a6Vs"
      },
      "source": [
        "The project relies on dataset(s) with human subjects. All datasets we are considering are publically available and are removed of all personally identifiable information (PII). The only distinguishable feature of each sample is its patient ID (or similar identification number), which is untraceable to its PII. All data can be deleted from the Github repository after the final report is genereted if the need arises.\n",
        "\n",
        "We will be mindful of and try to ensure that no prior knowledge or conceivable personal biases are injected into the models that we will be training over this dataset. We will also try to ensure that we only extract features from the datasets that are not obviously discriminatory to people of any gender, racial, cultural, social, or political groups.\n",
        "\n",
        "If the Framingham data is used, one limitation to this study is that this dataset comes from one town in the state of Massachusetts, so the result cannot be generalized very well to any other part of the world or within the United States. If so, we will talk about this shortcoming in the final report."
      ]
    },
    {
      "cell_type": "markdown",
      "metadata": {
        "id": "K-5cAJmaa6Vs"
      },
      "source": [
        "# Team Expectations"
      ]
    },
    {
      "cell_type": "markdown",
      "metadata": {
        "id": "S7Ps7DJWa6Vs"
      },
      "source": [
        "This part is for interaction/communication as a team, conflicts and difficulties handling, making decisions and setting goals/schedules, work expectations, deadlines, etc.\n",
        "* The team will meet every week in which any \"check point\" for the project is due. The meeting time is temporarily set at 4:00 pm on Wendesday.\n",
        "* The team will divide work when necessary for each check point of the project, but will present the project (if necessary) together\n",
        "* The team will communicate primarily on Discord, and will report status of their part of the work if necessary\n",
        "* Every component that each team member is responsible of should be completed 12 hours before the actual deadline for fine-tuning."
      ]
    },
    {
      "cell_type": "markdown",
      "metadata": {
        "id": "59apdQhOa6Vt"
      },
      "source": [
        "# Project Timeline Proposal"
      ]
    },
    {
      "cell_type": "markdown",
      "metadata": {
        "id": "igVarnNSa6Vt"
      },
      "source": [
        "Replace this with something meaningful that is appropriate for your needs. It doesn't have to be something that fits this format.  It doesn't have to be set in stone... \"no battle plan survives contact with the enemy\". But you need a battle plan nonetheless, and you need to keep it updated so you understand what you are trying to accomplish, who's responsible for what, and what the expected due dates are for each item.\n",
        "\n",
        "| Meeting Date  | Meeting Time| Completed Before Meeting  | Discuss at Meeting |\n",
        "|---|---|---|---|\n",
        "| 4/20  |  1 PM |  (In-person) Discuss Project Proposal  | Discuss and decide on final project topic; discuss hypothesis; begin background research | \n",
        "| 4/24  |  1 PM |  Project Proposal DUE  | Determine best form of communication; Discuss and decide on final project topic; discuss hypothesis; begin background research | \n",
        "| 4/27  |  4 PM |  (In-person) Peer Review and Project Setup  | Do peer review projects together, discuss on dataset, dicuss project's pipeline and role assignment| \n",
        "| 5/04  |  4 PM |  (In-person) Progress Update | Discuss dataset analysis and interesting pattern, potential approaches to handle data, start on Feature Extraction & Encoding, Model Implementation\n",
        "| 5/11  |  4 PM |  (In-person) Project Checkpoint | Finalize for Project Checkpoint, update progress \n",
        "| 5/13  | 10 AM  | Project Checkpoint DUE | Discuss Wrangling and possible analytical approaches; Assign group members to lead each specific part   |\n",
        "| 5/17  | 4 PM  | (Discord) Project Checkpoint Peer-Review |  Do peer review together, update on project progress  |\n",
        "| 5/20  | 6 PM  | Project Checkpoint peer review DUE | Review/Edit wrangling/EDA; Discuss Analysis Plan   |\n",
        "| 5/27  | 9 PM  | Meeting for Final Project | Start writing report, make modification to model and solution  |\n",
        "| 6/8  | 12 PM  | Final Project and Evaluation DUE | Discuss/edit project code; Complete project |"
      ]
    },
    {
      "cell_type": "markdown",
      "metadata": {
        "id": "TILt70eQa6Vu"
      },
      "source": [
        "# Footnotes\n",
        "<a name=\"hypertensions\"></a>1.[^](#vaugham): Adam, Vaugham. (18 March 2022) County-Level Trends in Hypertension-Related Cardiovascular Disease Mortality-United States, 200 to 2019. *Journal of the American heart Association*. https://www.ahajournals.org/doi/10.1161/JAHA.121.024785<br> \n",
        "<a name=\"hist\"></a>2.[^](#hajar): Rachel, Hajar. (18 July 2017) Risk Factors for Coronary Artery Disease: Historical Perspectives. *National Library of Medicene*. https://www.ncbi.nlm.nih.gov/pmc/articles/PMC5686931/<br> \n",
        "<a name=\"diseaseAlg\"></a>3.[^](#Tuli): Shreshth, Tuli. (15 November 2019) HealthFog: An ensemble Deep learning based Smarted Healthcare System for Automatic Diagnosis of Heart Diseases in Integrated IoT and Fog Computing Environments. *Medical Diagnosis*. https://cs.paperswithcode.com/paper/healthfog-an-ensemble-deep-learning-based/<br> \n"
      ]
    }
  ],
  "metadata": {
    "kernelspec": {
      "display_name": "Python 3",
      "language": "python",
      "name": "python3"
    },
    "language_info": {
      "codemirror_mode": {
        "name": "ipython",
        "version": 3
      },
      "file_extension": ".py",
      "mimetype": "text/x-python",
      "name": "python",
      "nbconvert_exporter": "python",
      "pygments_lexer": "ipython3",
      "version": "3.7.1"
    },
    "colab": {
      "name": "ProposalGroup009-Sp22.ipynb",
      "provenance": [],
      "collapsed_sections": []
    }
  },
  "nbformat": 4,
  "nbformat_minor": 0
}